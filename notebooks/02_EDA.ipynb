{
 "cells": [
  {
   "cell_type": "code",
   "execution_count": 2,
   "id": "400e7ab5",
   "metadata": {},
   "outputs": [],
   "source": [
    "# Cell 1: Imports & display settings\n",
    "import pandas as pd\n",
    "import numpy as np\n",
    "import matplotlib.pyplot as plt\n",
    "import seaborn as sns\n",
    "import re\n",
    "import string\n",
    "from collections import Counter\n",
    "from wordcloud import WordCloud\n",
    "\n",
    "# NLP\n",
    "import nltk\n",
    "from nltk.corpus import stopwords\n",
    "from nltk.stem import WordNetLemmatizer\n",
    "\n",
    "# Scikit-learn helpers (for later modeling steps)\n",
    "from sklearn.feature_extraction.text import CountVectorizer, TfidfVectorizer\n",
    "from sklearn.model_selection import train_test_split\n",
    "\n",
    "# Display settings\n",
    "pd.set_option('display.max_columns', None)\n",
    "sns.set(style='whitegrid')\n"
   ]
  },
  {
   "cell_type": "code",
   "execution_count": 3,
   "id": "34342590",
   "metadata": {},
   "outputs": [
    {
     "name": "stderr",
     "output_type": "stream",
     "text": [
      "[nltk_data] Downloading package punkt to C:\\Users\\Brindha Suvarna\n",
      "[nltk_data]     R\\AppData\\Roaming\\nltk_data...\n",
      "[nltk_data]   Unzipping tokenizers\\punkt.zip.\n",
      "[nltk_data] Downloading package stopwords to C:\\Users\\Brindha Suvarna\n",
      "[nltk_data]     R\\AppData\\Roaming\\nltk_data...\n",
      "[nltk_data]   Unzipping corpora\\stopwords.zip.\n",
      "[nltk_data] Downloading package wordnet to C:\\Users\\Brindha Suvarna\n",
      "[nltk_data]     R\\AppData\\Roaming\\nltk_data...\n",
      "[nltk_data] Downloading package omw-1.4 to C:\\Users\\Brindha Suvarna\n",
      "[nltk_data]     R\\AppData\\Roaming\\nltk_data...\n"
     ]
    },
    {
     "data": {
      "text/plain": [
       "True"
      ]
     },
     "execution_count": 3,
     "metadata": {},
     "output_type": "execute_result"
    }
   ],
   "source": [
    "# Cell 2: NLTK downloads (run once in the environment)\n",
    "nltk.download('punkt')\n",
    "nltk.download('stopwords')\n",
    "nltk.download('wordnet')\n",
    "nltk.download('omw-1.4')\n"
   ]
  },
  {
   "cell_type": "code",
   "execution_count": 9,
   "id": "ba52d261",
   "metadata": {},
   "outputs": [
    {
     "name": "stdout",
     "output_type": "stream",
     "text": [
      "Current working directory: c:\\Users\\Brindha Suvarna R\\Desktop\\sentiment-classifier\\notebooks\n",
      "Dataset loaded successfully!\n",
      "Shape: (8236, 3)\n"
     ]
    },
    {
     "data": {
      "text/html": [
       "<div>\n",
       "<style scoped>\n",
       "    .dataframe tbody tr th:only-of-type {\n",
       "        vertical-align: middle;\n",
       "    }\n",
       "\n",
       "    .dataframe tbody tr th {\n",
       "        vertical-align: top;\n",
       "    }\n",
       "\n",
       "    .dataframe thead th {\n",
       "        text-align: right;\n",
       "    }\n",
       "</style>\n",
       "<table border=\"1\" class=\"dataframe\">\n",
       "  <thead>\n",
       "    <tr style=\"text-align: right;\">\n",
       "      <th></th>\n",
       "      <th>review</th>\n",
       "      <th>model</th>\n",
       "      <th>sentiment</th>\n",
       "    </tr>\n",
       "  </thead>\n",
       "  <tbody>\n",
       "    <tr>\n",
       "      <th>0</th>\n",
       "      <td>The movie was a complete snoozefest.  I regret...</td>\n",
       "      <td>Gemini-1.5-Flash</td>\n",
       "      <td>negative</td>\n",
       "    </tr>\n",
       "    <tr>\n",
       "      <th>1</th>\n",
       "      <td>Seriously, the worst venue I've ever been to. ...</td>\n",
       "      <td>Gemini-1.5-Flash</td>\n",
       "      <td>negative</td>\n",
       "    </tr>\n",
       "    <tr>\n",
       "      <th>2</th>\n",
       "      <td>This event was so poorly organized, it was a j...</td>\n",
       "      <td>Gemini-1.5-Flash</td>\n",
       "      <td>negative</td>\n",
       "    </tr>\n",
       "    <tr>\n",
       "      <th>3</th>\n",
       "      <td>What a disaster of a movie!  The acting was aw...</td>\n",
       "      <td>Gemini-1.5-Flash</td>\n",
       "      <td>negative</td>\n",
       "    </tr>\n",
       "    <tr>\n",
       "      <th>4</th>\n",
       "      <td>I wouldn't recommend this venue to my worst en...</td>\n",
       "      <td>Gemini-1.5-Flash</td>\n",
       "      <td>negative</td>\n",
       "    </tr>\n",
       "    <tr>\n",
       "      <th>5</th>\n",
       "      <td>The event was a complete letdown.  The perform...</td>\n",
       "      <td>Gemini-1.5-Flash</td>\n",
       "      <td>negative</td>\n",
       "    </tr>\n",
       "    <tr>\n",
       "      <th>6</th>\n",
       "      <td>This movie was boring and predictable. I could...</td>\n",
       "      <td>Gemini-1.5-Flash</td>\n",
       "      <td>negative</td>\n",
       "    </tr>\n",
       "    <tr>\n",
       "      <th>7</th>\n",
       "      <td>The sound system at the venue was atrocious. I...</td>\n",
       "      <td>Gemini-1.5-Flash</td>\n",
       "      <td>negative</td>\n",
       "    </tr>\n",
       "    <tr>\n",
       "      <th>8</th>\n",
       "      <td>The event was poorly advertised and even worse...</td>\n",
       "      <td>Gemini-1.5-Flash</td>\n",
       "      <td>negative</td>\n",
       "    </tr>\n",
       "    <tr>\n",
       "      <th>9</th>\n",
       "      <td>This movie had a terrible plot and unbelievabl...</td>\n",
       "      <td>Gemini-1.5-Flash</td>\n",
       "      <td>negative</td>\n",
       "    </tr>\n",
       "  </tbody>\n",
       "</table>\n",
       "</div>"
      ],
      "text/plain": [
       "                                              review             model  \\\n",
       "0  The movie was a complete snoozefest.  I regret...  Gemini-1.5-Flash   \n",
       "1  Seriously, the worst venue I've ever been to. ...  Gemini-1.5-Flash   \n",
       "2  This event was so poorly organized, it was a j...  Gemini-1.5-Flash   \n",
       "3  What a disaster of a movie!  The acting was aw...  Gemini-1.5-Flash   \n",
       "4  I wouldn't recommend this venue to my worst en...  Gemini-1.5-Flash   \n",
       "5  The event was a complete letdown.  The perform...  Gemini-1.5-Flash   \n",
       "6  This movie was boring and predictable. I could...  Gemini-1.5-Flash   \n",
       "7  The sound system at the venue was atrocious. I...  Gemini-1.5-Flash   \n",
       "8  The event was poorly advertised and even worse...  Gemini-1.5-Flash   \n",
       "9  This movie had a terrible plot and unbelievabl...  Gemini-1.5-Flash   \n",
       "\n",
       "  sentiment  \n",
       "0  negative  \n",
       "1  negative  \n",
       "2  negative  \n",
       "3  negative  \n",
       "4  negative  \n",
       "5  negative  \n",
       "6  negative  \n",
       "7  negative  \n",
       "8  negative  \n",
       "9  negative  "
      ]
     },
     "metadata": {},
     "output_type": "display_data"
    }
   ],
   "source": [
    "# Cell 3: Robust dataset loading with correct relative path\n",
    "import os\n",
    "import pandas as pd\n",
    "\n",
    "# Correct relative path from notebooks folder\n",
    "file_path = '../data/raw/review.csv'\n",
    "\n",
    "# Check current working directory\n",
    "print(\"Current working directory:\", os.getcwd())\n",
    "\n",
    "# Check if file exists\n",
    "if os.path.exists(file_path):\n",
    "    df = pd.read_csv(file_path)\n",
    "    print(\"Dataset loaded successfully!\")\n",
    "    print(\"Shape:\", df.shape)\n",
    "    display(df.head(10))\n",
    "else:\n",
    "    print(f\"Error: File not found at '{file_path}'.\")\n",
    "    print(\"Files in '../data/raw' folder:\", os.listdir('../data/raw') if os.path.exists('../data/raw') else \"Folder does not exist\")\n"
   ]
  },
  {
   "cell_type": "code",
   "execution_count": 10,
   "id": "f20aa120",
   "metadata": {},
   "outputs": [
    {
     "name": "stdout",
     "output_type": "stream",
     "text": [
      "<class 'pandas.core.frame.DataFrame'>\n",
      "RangeIndex: 8236 entries, 0 to 8235\n",
      "Data columns (total 3 columns):\n",
      " #   Column     Non-Null Count  Dtype \n",
      "---  ------     --------------  ----- \n",
      " 0   review     8236 non-null   object\n",
      " 1   model      8234 non-null   object\n",
      " 2   sentiment  8234 non-null   object\n",
      "dtypes: object(3)\n",
      "memory usage: 193.2+ KB\n",
      "\n",
      "Missing values per column:\n",
      " review       0\n",
      "model        2\n",
      "sentiment    2\n",
      "dtype: int64\n",
      "\n",
      "Number of duplicate rows: 2555\n"
     ]
    }
   ],
   "source": [
    "# Cell 4: Info, missing values, duplicates\n",
    "df.info()\n",
    "print(\"\\nMissing values per column:\\n\", df.isnull().sum())\n",
    "print(\"\\nNumber of duplicate rows:\", df.duplicated().sum())\n",
    "\n",
    "# If your text column or label column have different names, note them here:\n",
    "# Example: text column named 'review' and label column named 'sentiment'\n"
   ]
  },
  {
   "cell_type": "code",
   "execution_count": 11,
   "id": "1acdf502",
   "metadata": {},
   "outputs": [
    {
     "name": "stdout",
     "output_type": "stream",
     "text": [
      "Columns in dataset: ['review', 'model', 'sentiment']\n",
      "Text column: review\n",
      "Label column: sentiment\n"
     ]
    }
   ],
   "source": [
    "# Cell 5 — Identify text and label columns (correct for your dataset)\n",
    "TEXT_COL = 'review'\n",
    "LABEL_COL = 'sentiment'\n",
    "\n",
    "print(\"Columns in dataset:\", df.columns.tolist())\n",
    "assert TEXT_COL in df.columns, f\"'{TEXT_COL}' column not found!\"\n",
    "assert LABEL_COL in df.columns, f\"'{LABEL_COL}' column not found!\"\n",
    "print(\"Text column:\", TEXT_COL)\n",
    "print(\"Label column:\", LABEL_COL)\n"
   ]
  },
  {
   "cell_type": "code",
   "execution_count": 12,
   "id": "19c18816",
   "metadata": {},
   "outputs": [
    {
     "name": "stdout",
     "output_type": "stream",
     "text": [
      "Label counts:\n",
      " sentiment\n",
      "positive    3110\n",
      "negative    2663\n",
      "neutral     2461\n",
      "NaN            2\n",
      "Name: count, dtype: int64\n"
     ]
    },
    {
     "data": {
      "image/png": "[encoded data removed]",
      "text/plain": [
       "<Figure size 600x400 with 1 Axes>"
      ]
     },
     "metadata": {},
     "output_type": "display_data"
    }
   ],
   "source": [
    "# Cell 6: Label distribution\n",
    "label_counts = df[LABEL_COL].value_counts(dropna=False)\n",
    "print(\"Label counts:\\n\", label_counts)\n",
    "plt.figure(figsize=(6,4))\n",
    "sns.barplot(x=label_counts.index, y=label_counts.values)\n",
    "plt.title('Label distribution')\n",
    "plt.ylabel('Count')\n",
    "plt.xlabel(LABEL_COL)\n",
    "plt.show()\n"
   ]
  },
  {
   "cell_type": "code",
   "execution_count": 13,
   "id": "a750382b",
   "metadata": {},
   "outputs": [
    {
     "data": {
      "text/html": [
       "<div>\n",
       "<style scoped>\n",
       "    .dataframe tbody tr th:only-of-type {\n",
       "        vertical-align: middle;\n",
       "    }\n",
       "\n",
       "    .dataframe tbody tr th {\n",
       "        vertical-align: top;\n",
       "    }\n",
       "\n",
       "    .dataframe thead th {\n",
       "        text-align: right;\n",
       "    }\n",
       "</style>\n",
       "<table border=\"1\" class=\"dataframe\">\n",
       "  <thead>\n",
       "    <tr style=\"text-align: right;\">\n",
       "      <th></th>\n",
       "      <th>review</th>\n",
       "      <th>text_len_chars</th>\n",
       "      <th>text_len_words</th>\n",
       "      <th>sentiment</th>\n",
       "    </tr>\n",
       "  </thead>\n",
       "  <tbody>\n",
       "    <tr>\n",
       "      <th>0</th>\n",
       "      <td>The movie was a complete snoozefest.  I regret...</td>\n",
       "      <td>86</td>\n",
       "      <td>14</td>\n",
       "      <td>negative</td>\n",
       "    </tr>\n",
       "    <tr>\n",
       "      <th>1</th>\n",
       "      <td>Seriously, the worst venue I've ever been to. ...</td>\n",
       "      <td>115</td>\n",
       "      <td>19</td>\n",
       "      <td>negative</td>\n",
       "    </tr>\n",
       "    <tr>\n",
       "      <th>2</th>\n",
       "      <td>This event was so poorly organized, it was a j...</td>\n",
       "      <td>85</td>\n",
       "      <td>16</td>\n",
       "      <td>negative</td>\n",
       "    </tr>\n",
       "    <tr>\n",
       "      <th>3</th>\n",
       "      <td>What a disaster of a movie!  The acting was aw...</td>\n",
       "      <td>113</td>\n",
       "      <td>20</td>\n",
       "      <td>negative</td>\n",
       "    </tr>\n",
       "    <tr>\n",
       "      <th>4</th>\n",
       "      <td>I wouldn't recommend this venue to my worst en...</td>\n",
       "      <td>90</td>\n",
       "      <td>15</td>\n",
       "      <td>negative</td>\n",
       "    </tr>\n",
       "  </tbody>\n",
       "</table>\n",
       "</div>"
      ],
      "text/plain": [
       "                                              review  text_len_chars  \\\n",
       "0  The movie was a complete snoozefest.  I regret...              86   \n",
       "1  Seriously, the worst venue I've ever been to. ...             115   \n",
       "2  This event was so poorly organized, it was a j...              85   \n",
       "3  What a disaster of a movie!  The acting was aw...             113   \n",
       "4  I wouldn't recommend this venue to my worst en...              90   \n",
       "\n",
       "   text_len_words sentiment  \n",
       "0              14  negative  \n",
       "1              19  negative  \n",
       "2              16  negative  \n",
       "3              20  negative  \n",
       "4              15  negative  "
      ]
     },
     "metadata": {},
     "output_type": "display_data"
    },
    {
     "data": {
      "image/png": "[encoded data removed]",
      "text/plain": [
       "<Figure size 1000x400 with 2 Axes>"
      ]
     },
     "metadata": {},
     "output_type": "display_data"
    },
    {
     "data": {
      "image/png": "[encoded data removed]",
      "text/plain": [
       "<Figure size 800x400 with 1 Axes>"
      ]
     },
     "metadata": {},
     "output_type": "display_data"
    }
   ],
   "source": [
    "# Cell 7: Text length features\n",
    "df['text_len_chars'] = df[TEXT_COL].astype(str).apply(len)\n",
    "df['text_len_words'] = df[TEXT_COL].astype(str).apply(lambda x: len(x.split()))\n",
    "\n",
    "display(df[[TEXT_COL, 'text_len_chars', 'text_len_words', LABEL_COL]].head())\n",
    "\n",
    "plt.figure(figsize=(10,4))\n",
    "plt.subplot(1,2,1)\n",
    "sns.histplot(df['text_len_chars'], bins=40, kde=True)\n",
    "plt.title('Character length distribution')\n",
    "\n",
    "plt.subplot(1,2,2)\n",
    "sns.histplot(df['text_len_words'], bins=40, kde=True)\n",
    "plt.title('Word count distribution')\n",
    "plt.tight_layout()\n",
    "plt.show()\n",
    "\n",
    "# Boxplot per label (helps see outliers / very long reviews)\n",
    "plt.figure(figsize=(8,4))\n",
    "sns.boxplot(x=LABEL_COL, y='text_len_words', data=df)\n",
    "plt.title('Word count by label')\n",
    "plt.show()\n"
   ]
  },
  {
   "cell_type": "code",
   "execution_count": 3,
   "id": "567c604b",
   "metadata": {},
   "outputs": [
    {
     "name": "stdout",
     "output_type": "stream",
     "text": [
      "Dataset loaded successfully!\n",
      "                                              review             model  \\\n",
      "0  The movie was a complete snoozefest.  I regret...  Gemini-1.5-Flash   \n",
      "1  Seriously, the worst venue I've ever been to. ...  Gemini-1.5-Flash   \n",
      "2  This event was so poorly organized, it was a j...  Gemini-1.5-Flash   \n",
      "3  What a disaster of a movie!  The acting was aw...  Gemini-1.5-Flash   \n",
      "4  I wouldn't recommend this venue to my worst en...  Gemini-1.5-Flash   \n",
      "\n",
      "  sentiment  \n",
      "0  negative  \n",
      "1  negative  \n",
      "2  negative  \n",
      "3  negative  \n",
      "4  negative  \n",
      "\n",
      "Sample cleaning output:\n",
      "\n",
      "ORIG: The movie was a complete snoozefest.  I regretted every second.  Total waste of money.\n"
     ]
    },
    {
     "name": "stderr",
     "output_type": "stream",
     "text": [
      "[nltk_data] Downloading package punkt to C:\\Users\\Brindha Suvarna\n",
      "[nltk_data]     R\\AppData\\Roaming\\nltk_data...\n",
      "[nltk_data]   Package punkt is already up-to-date!\n",
      "[nltk_data] Downloading package punkt_tab to C:\\Users\\Brindha Suvarna\n",
      "[nltk_data]     R\\AppData\\Roaming\\nltk_data...\n",
      "[nltk_data]   Package punkt_tab is already up-to-date!\n",
      "[nltk_data] Downloading package stopwords to C:\\Users\\Brindha Suvarna\n",
      "[nltk_data]     R\\AppData\\Roaming\\nltk_data...\n",
      "[nltk_data]   Package stopwords is already up-to-date!\n",
      "[nltk_data] Downloading package wordnet to C:\\Users\\Brindha Suvarna\n",
      "[nltk_data]     R\\AppData\\Roaming\\nltk_data...\n",
      "[nltk_data]   Package wordnet is already up-to-date!\n"
     ]
    },
    {
     "name": "stdout",
     "output_type": "stream",
     "text": [
      "CLEAN: movie complete snoozefest regretted every second total waste money\n",
      "---\n",
      "ORIG: Seriously, the worst venue I've ever been to.  The sound was terrible, the seats uncomfortable, and the staff rude.\n",
      "CLEAN: seriously worst venue ever sound terrible seat uncomfortable staff rude\n",
      "---\n",
      "ORIG: This event was so poorly organized, it was a joke.  I left early, feeling ripped off.\n",
      "CLEAN: event poorly organized joke left early feeling ripped\n",
      "---\n",
      "ORIG: What a disaster of a movie!  The acting was awful, the plot was nonsensical, and the special effects were cheesy.\n",
      "CLEAN: disaster movie acting awful plot nonsensical special effect cheesy\n",
      "---\n",
      "ORIG: I wouldn't recommend this venue to my worst enemy.  It was dirty, cramped, and overpriced.\n",
      "CLEAN: recommend venue worst enemy dirty cramped overpriced\n",
      "---\n"
     ]
    }
   ],
   "source": [
    "# Cell 8: Load dataset + Text cleaning & preprocessing helper\n",
    "import re\n",
    "import nltk\n",
    "import pandas as pd\n",
    "from nltk.corpus import stopwords\n",
    "from nltk.stem import WordNetLemmatizer\n",
    "\n",
    "# === 1. Load your dataset ===\n",
    "df = pd.read_csv(\"../data/raw/review.csv\")   # <-- fixed path\n",
    "print(\"Dataset loaded successfully!\")\n",
    "print(df.head())\n",
    "\n",
    "# === 2. Download required NLTK resources ===\n",
    "nltk.download('punkt')\n",
    "nltk.download('punkt_tab')\n",
    "nltk.download('stopwords')\n",
    "nltk.download('wordnet')\n",
    "\n",
    "# === 3. Define stopwords and lemmatizer ===\n",
    "stop_words = set(stopwords.words('english'))\n",
    "lemmatizer = WordNetLemmatizer()\n",
    "\n",
    "# === 4. Specify your text column ===\n",
    "TEXT_COL = 'review'  # change if your CSV uses a different column name\n",
    "\n",
    "# === 5. Define cleaning function ===\n",
    "def clean_text(text, remove_stopwords=True, do_lemmatize=True):\n",
    "    if pd.isna(text):\n",
    "        return \"\"\n",
    "    text = str(text).lower()\n",
    "    text = re.sub(r'http\\S+|www\\S+|https\\S+', '', text)\n",
    "    text = re.sub(r'\\S+@\\S+', '', text)\n",
    "    text = re.sub(r'[^a-z\\s]', ' ', text)\n",
    "    text = re.sub(r'\\s+', ' ', text).strip()\n",
    "    tokens = nltk.word_tokenize(text)\n",
    "    if remove_stopwords:\n",
    "        tokens = [t for t in tokens if t not in stop_words]\n",
    "    if do_lemmatize:\n",
    "        tokens = [lemmatizer.lemmatize(t) for t in tokens]\n",
    "    return \" \".join(tokens)\n",
    "\n",
    "# === 6. Test cleaning on sample ===\n",
    "print(\"\\nSample cleaning output:\\n\")\n",
    "sample = df[TEXT_COL].astype(str).iloc[:5]\n",
    "for s in sample:\n",
    "    print(\"ORIG:\", s)\n",
    "    print(\"CLEAN:\", clean_text(s))\n",
    "    print(\"---\")\n"
   ]
  },
  {
   "cell_type": "code",
   "execution_count": 4,
   "id": "600b394a",
   "metadata": {},
   "outputs": [
    {
     "data": {
      "text/html": [
       "<div>\n",
       "<style scoped>\n",
       "    .dataframe tbody tr th:only-of-type {\n",
       "        vertical-align: middle;\n",
       "    }\n",
       "\n",
       "    .dataframe tbody tr th {\n",
       "        vertical-align: top;\n",
       "    }\n",
       "\n",
       "    .dataframe thead th {\n",
       "        text-align: right;\n",
       "    }\n",
       "</style>\n",
       "<table border=\"1\" class=\"dataframe\">\n",
       "  <thead>\n",
       "    <tr style=\"text-align: right;\">\n",
       "      <th></th>\n",
       "      <th>review</th>\n",
       "      <th>clean_text</th>\n",
       "    </tr>\n",
       "  </thead>\n",
       "  <tbody>\n",
       "    <tr>\n",
       "      <th>0</th>\n",
       "      <td>The movie was a complete snoozefest.  I regret...</td>\n",
       "      <td>movie complete snoozefest regretted every seco...</td>\n",
       "    </tr>\n",
       "    <tr>\n",
       "      <th>1</th>\n",
       "      <td>Seriously, the worst venue I've ever been to. ...</td>\n",
       "      <td>seriously worst venue ever sound terrible seat...</td>\n",
       "    </tr>\n",
       "    <tr>\n",
       "      <th>2</th>\n",
       "      <td>This event was so poorly organized, it was a j...</td>\n",
       "      <td>event poorly organized joke left early feeling...</td>\n",
       "    </tr>\n",
       "    <tr>\n",
       "      <th>3</th>\n",
       "      <td>What a disaster of a movie!  The acting was aw...</td>\n",
       "      <td>disaster movie acting awful plot nonsensical s...</td>\n",
       "    </tr>\n",
       "    <tr>\n",
       "      <th>4</th>\n",
       "      <td>I wouldn't recommend this venue to my worst en...</td>\n",
       "      <td>recommend venue worst enemy dirty cramped over...</td>\n",
       "    </tr>\n",
       "  </tbody>\n",
       "</table>\n",
       "</div>"
      ],
      "text/plain": [
       "                                              review  \\\n",
       "0  The movie was a complete snoozefest.  I regret...   \n",
       "1  Seriously, the worst venue I've ever been to. ...   \n",
       "2  This event was so poorly organized, it was a j...   \n",
       "3  What a disaster of a movie!  The acting was aw...   \n",
       "4  I wouldn't recommend this venue to my worst en...   \n",
       "\n",
       "                                          clean_text  \n",
       "0  movie complete snoozefest regretted every seco...  \n",
       "1  seriously worst venue ever sound terrible seat...  \n",
       "2  event poorly organized joke left early feeling...  \n",
       "3  disaster movie acting awful plot nonsensical s...  \n",
       "4  recommend venue worst enemy dirty cramped over...  "
      ]
     },
     "metadata": {},
     "output_type": "display_data"
    }
   ],
   "source": [
    "# Cell 9: Create cleaned text column (this may take time for huge datasets)\n",
    "df['clean_text'] = df[TEXT_COL].astype(str).apply(clean_text)\n",
    "display(df[[TEXT_COL, 'clean_text']].head())\n"
   ]
  },
  {
   "cell_type": "code",
   "execution_count": 6,
   "id": "0afe7848",
   "metadata": {},
   "outputs": [
    {
     "name": "stdout",
     "output_type": "stream",
     "text": [
      "Top overall words:\n",
      "[('new', 907), ('product', 668), ('event', 628), ('movie', 546), ('service', 461), ('store', 450), ('great', 437), ('ad', 421), ('restaurant', 411), ('spa', 411), ('staff', 404), ('food', 400), ('time', 392), ('toy', 392), ('okay', 387)]\n",
      "⚠️ Column 'label' not found in dataset. Please check your label column name.\n"
     ]
    }
   ],
   "source": [
    "# Cell 10: Top words overall and per label\n",
    "from collections import Counter\n",
    "\n",
    "# Make sure you have a 'clean_text' column\n",
    "if 'clean_text' not in df.columns:\n",
    "    print(\"🟡 'clean_text' not found — generating it now...\")\n",
    "    df['clean_text'] = df['review'].apply(clean_text)\n",
    "\n",
    "# Define your label column name (update if needed)\n",
    "LABEL_COL = 'label'  # <-- change to your actual label column name\n",
    "\n",
    "def get_top_n_words(corpus, n=25):\n",
    "    words = \" \".join(corpus).split()\n",
    "    return Counter(words).most_common(n)\n",
    "\n",
    "# === Overall top words ===\n",
    "top_overall = get_top_n_words(df['clean_text'].dropna(), 30)\n",
    "print(\"Top overall words:\")\n",
    "print(top_overall[:15])\n",
    "\n",
    "# === Top words per label ===\n",
    "if LABEL_COL in df.columns:\n",
    "    for lbl in df[LABEL_COL].unique():\n",
    "        texts = df.loc[df[LABEL_COL] == lbl, 'clean_text'].dropna()\n",
    "        top = get_top_n_words(texts, 20)\n",
    "        print(f\"\\nTop words for label = {lbl}:\")\n",
    "        print(top[:15])\n",
    "else:\n",
    "    print(f\"⚠️ Column '{LABEL_COL}' not found in dataset. Please check your label column name.\")\n"
   ]
  },
  {
   "cell_type": "code",
   "execution_count": 10,
   "id": "ab36c34c",
   "metadata": {},
   "outputs": [
    {
     "name": "stdout",
     "output_type": "stream",
     "text": [
      "Top bigrams overall: [('highly recommend', np.int64(205)), ('service slow', np.int64(162)), ('brand product', np.int64(143)), ('got amazing', np.int64(140)), ('amazing new', np.int64(139)), ('waste money', np.int64(134)), ('customer service', np.int64(131)), ('complete waste', np.int64(128)), ('waste time', np.int64(120)), ('tried new', np.int64(118)), ('bought new', np.int64(112)), ('event complete', np.int64(97)), ('special effect', np.int64(95)), ('staff unhelpful', np.int64(91)), ('bought toy', np.int64(91)), ('new toy', np.int64(91)), ('going love', np.int64(89)), ('total letdown', np.int64(88)), ('new restaurant', np.int64(81)), ('pretty standard', np.int64(78))]\n",
      "Top trigrams overall: [('got amazing new', np.int64(138)), ('complete waste time', np.int64(67)), ('ad pretty standard', np.int64(62)), ('standard product shown', np.int64(62)), ('pretty standard product', np.int64(61)), ('store alright price', np.int64(60)), ('new ad campaign', np.int64(60)), ('alright price okay', np.int64(58)), ('friendly highly recommend', np.int64(55)), ('complete waste money', np.int64(53)), ('customer service non', np.int64(53)), ('service non existent', np.int64(53)), ('amazing new experience', np.int64(53)), ('new experience gift', np.int64(53)), ('brand product alright', np.int64(52)), ('new toy bit', np.int64(47)), ('special effect cheesy', np.int64(46)), ('spa clean massage', np.int64(45)), ('new restaurant town', np.int64(45)), ('line long staff', np.int64(43))]\n"
     ]
    }
   ],
   "source": [
    "from sklearn.feature_extraction.text import CountVectorizer\n",
    "\n",
    "def top_ngrams(corpus, ngram_range=(2,2), n=None):\n",
    "    vectorizer = CountVectorizer(ngram_range=ngram_range, stop_words='english')\n",
    "    X = vectorizer.fit_transform(corpus)\n",
    "    sums = X.sum(axis=0)\n",
    "    data = [(word, sums[0, idx]) for word, idx in vectorizer.vocabulary_.items()]\n",
    "    data = sorted(data, key=lambda x: x[1], reverse=True)\n",
    "    return data[:n]\n",
    "\n",
    "print(\"Top bigrams overall:\", top_ngrams(df['clean_text'].astype(str), ngram_range=(2,2), n=20))\n",
    "print(\"Top trigrams overall:\", top_ngrams(df['clean_text'].astype(str), ngram_range=(3,3), n=20))\n"
   ]
  },
  {
   "cell_type": "code",
   "execution_count": 13,
   "id": "8cd8d9a8",
   "metadata": {},
   "outputs": [
    {
     "name": "stdout",
     "output_type": "stream",
     "text": [
      "TF-IDF matrix shape: (8236, 5000)\n",
      "Top TF-IDF features: ['product', 'event', 'new', 'movie', 'okay', 'great', 'service', 'good', 'store', 'spa', 'toy', 'bit', 'ad', 'venue', 'food', 'time', 'brand', 'complete', 'restaurant', 'staff']\n"
     ]
    }
   ],
   "source": [
    "# Cell 13: TF-IDF vectorization quick check\n",
    "from sklearn.feature_extraction.text import TfidfVectorizer\n",
    "import numpy as np\n",
    "\n",
    "# TF-IDF vectorization quick check\n",
    "tfv = TfidfVectorizer(max_features=5000, ngram_range=(1,2))\n",
    "X_tfidf = tfv.fit_transform(df['clean_text'].astype(str))\n",
    "print(\"TF-IDF matrix shape:\", X_tfidf.shape)\n",
    "\n",
    "# Show top features by average TF-IDF\n",
    "avg_tfidf = np.asarray(X_tfidf.mean(axis=0)).ravel()\n",
    "top_n = 20\n",
    "top_idx = avg_tfidf.argsort()[-top_n:][::-1]\n",
    "top_features = [tfv.get_feature_names_out()[i] for i in top_idx]\n",
    "print(\"Top TF-IDF features:\", top_features)\n",
    "\n"
   ]
  },
  {
   "cell_type": "code",
   "execution_count": null,
   "id": "42b6d7e3",
   "metadata": {},
   "outputs": [
    {
     "name": "stdout",
     "output_type": "stream",
     "text": [
      "✅ Cleaned dataset saved successfully at: data/processed/cleaned_reviews.csv\n",
      "Rows: 8236\n",
      "Columns: ['review', 'model', 'sentiment', 'clean_text']\n"
     ]
    }
   ],
   "source": []
  },
  {
   "cell_type": "code",
   "execution_count": 16,
   "id": "5f64d31f",
   "metadata": {},
   "outputs": [
    {
     "name": "stdout",
     "output_type": "stream",
     "text": [
      "✅ Cleaned dataset saved successfully at: C:\\Users\\Brindha Suvarna R\\Desktop\\sentiment-classifier\\data\\processed\\cleaned_reviews.csv\n",
      "Rows: 8236\n",
      "Columns: ['review', 'model', 'sentiment', 'clean_text']\n"
     ]
    }
   ],
   "source": [
    "# Cell 14 — Save cleaned file for modeling (absolute path)\n",
    "import os\n",
    "\n",
    "# Absolute path to processed folder\n",
    "processed_folder = r\"C:\\Users\\Brindha Suvarna R\\Desktop\\sentiment-classifier\\data\\processed\"\n",
    "os.makedirs(processed_folder, exist_ok=True)  # create folder if it doesn't exist\n",
    "\n",
    "# Define output file path\n",
    "output_path = os.path.join(processed_folder, \"cleaned_reviews.csv\")\n",
    "\n",
    "# Save cleaned dataframe\n",
    "df.to_csv(output_path, index=False)\n",
    "\n",
    "print(f\"✅ Cleaned dataset saved successfully at: {output_path}\")\n",
    "print(\"Rows:\", len(df))\n",
    "print(\"Columns:\", df.columns.tolist())\n"
   ]
  },
  {
   "cell_type": "code",
   "execution_count": null,
   "id": "45a8be3f",
   "metadata": {},
   "outputs": [],
   "source": []
  }
 ],
 "metadata": {
  "kernelspec": {
   "display_name": "Python 3",
   "language": "python",
   "name": "python3"
  },
  "language_info": {
   "codemirror_mode": {
    "name": "ipython",
    "version": 3
   },
   "file_extension": ".py",
   "mimetype": "text/x-python",
   "name": "python",
   "nbconvert_exporter": "python",
   "pygments_lexer": "ipython3",
   "version": "3.13.5"
  }
 },
 "nbformat": 4,
 "nbformat_minor": 5
}
